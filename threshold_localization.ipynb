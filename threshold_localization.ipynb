{
 "cells": [
  {
   "cell_type": "code",
   "execution_count": 1,
   "id": "20d8cc3a",
   "metadata": {},
   "outputs": [],
   "source": [
    "import os\n",
    "import cv2 \n",
    "import numpy as np\n",
    "from tqdm.notebook import tqdm\n",
    "from matplotlib import pyplot as plt\n",
    "from src.utils.image_stuff import image_stuff"
   ]
  },
  {
   "cell_type": "code",
   "execution_count": 2,
   "id": "81fd1cca",
   "metadata": {},
   "outputs": [],
   "source": [
    "def find_optic_disc_mask(rgb_image, threshold):\n",
    "\n",
    "    image = rgb_image.copy()\n",
    "    blur_image = cv2.GaussianBlur(image,(25,25),0)\n",
    "    red_blur_image = blur_image[:,:,0]\n",
    "\n",
    "    clahe = cv2.createCLAHE(clipLimit=2.0, tileGridSize=(8, 8))\n",
    "    clahe_equalized_image = clahe.apply(red_blur_image)\n",
    "    \n",
    "    ret, thresh_blur = cv2.threshold(clahe_equalized_image, threshold, 255, cv2.THRESH_BINARY)\n",
    "\n",
    "    kernel = np.ones((5,5), np.uint8)\n",
    "    opening = cv2.morphologyEx(thresh_blur, cv2.MORPH_OPEN, kernel, iterations = 5)\n",
    "\n",
    "    contours, hierarchy = cv2.findContours(opening, cv2.RETR_TREE, cv2.CHAIN_APPROX_NONE)\n",
    "    shapes = []\n",
    "\n",
    "    # out_image = image_rgb.copy()\n",
    "    out_image = np.zeros(rgb_image.shape, dtype=np.uint8)\n",
    "    for i in range(len(contours)):\n",
    "        hull = cv2.convexHull(contours[i])\n",
    "        area = cv2.contourArea(hull)\n",
    "        x,y,w,h = cv2.boundingRect(hull)\n",
    "        r = min(w,h)/2\n",
    "        ideal_area = np.pi*r*r#*(w/2)*(h/2)\n",
    "\n",
    "        if area/ideal_area >= 0.9:\n",
    "            shapes.append([hull, area])\n",
    "    shapes = sorted(shapes,key=lambda l:l[1], reverse=True)\n",
    "    final_mask = shapes[0]\n",
    "    return final_mask"
   ]
  },
  {
   "cell_type": "code",
   "execution_count": 3,
   "id": "ac4f2f6b",
   "metadata": {},
   "outputs": [],
   "source": [
    "def find_ROI(image):\n",
    "    blur_image = cv2.GaussianBlur(image,(25,25),0)\n",
    "    red_blur_image = blur_image[:,:,1]\n",
    "\n",
    "    clahe = cv2.createCLAHE(clipLimit=2.0, tileGridSize=(8, 8))\n",
    "    clahe_equalized_image = clahe.apply(red_blur_image)\n",
    "    delta = 0\n",
    "    for i in range(10):\n",
    "\n",
    "        ret, thresh_blur = cv2.threshold(clahe_equalized_image, 250-delta, 255, cv2.THRESH_BINARY)\n",
    "\n",
    "        kernel = np.ones((10,10), np.uint8)\n",
    "        thresh_blur = cv2.morphologyEx(thresh_blur, cv2.MORPH_DILATE, kernel, iterations = 5)\n",
    "\n",
    "        contours, hierarchy = cv2.findContours(thresh_blur, cv2.RETR_TREE, cv2.CHAIN_APPROX_NONE)\n",
    "        if len(contours) == 0:\n",
    "            delta +=5\n",
    "        else:\n",
    "            break\n",
    "\n",
    "    return contours"
   ]
  },
  {
   "cell_type": "code",
   "execution_count": 4,
   "id": "bad8a702",
   "metadata": {},
   "outputs": [],
   "source": [
    "# https://www.geeksforgeeks.org/python-opencv-find-center-of-contour/\n",
    "def extract_center(contour):\n",
    "    M = cv2.moments(contour)\n",
    "    cx = int(M['m10']/M['m00'])\n",
    "    cy = int(M['m01']/M['m00'])\n",
    "    return cx, cy"
   ]
  },
  {
   "cell_type": "code",
   "execution_count": 5,
   "id": "7bb3c429",
   "metadata": {},
   "outputs": [],
   "source": [
    "def find_optic_disc_from_red_channel(eq_image, roi_x, roi_y, d, eye_area):\n",
    "    delta = 0\n",
    "    is_it_inside = True\n",
    "    final_mask = None\n",
    "    mask = None\n",
    "    threshold = 190 #int(cropped_image[:,:,0].mean())\n",
    "    old_threshold = threshold\n",
    "    delta = 0\n",
    "    for i in range(25):\n",
    "        try:\n",
    "            mask = find_optic_disc_mask(eq_image, threshold)\n",
    "        except:\n",
    "            threshold -= 10\n",
    "            continue\n",
    "        cx, cy = extract_center(mask[0])\n",
    "        if roi_x-d<=cx<=roi_x+d and roi_y-d<=cy<=roi_y+d:\n",
    "            is_it_inside = True\n",
    "            old_threshold = threshold\n",
    "        else:\n",
    "\n",
    "            is_it_inside = False\n",
    "            threshold = old_threshold + np.random.randint(-25,25)\n",
    "            threshold = min(threshold, 254)\n",
    "            threshold = max(threshold, 75)\n",
    "            continue\n",
    "        mask_area =  mask[1]\n",
    "        _, radius = cv2.minEnclosingCircle(mask[0])\n",
    "    #     mask_area = 3.14159 * radius**2\n",
    "        area_ratio = mask_area/eye_area\n",
    "\n",
    "        if 0.014 - delta <= area_ratio <= 0.025 + delta:\n",
    "            final_mask = mask\n",
    "            break\n",
    "        elif area_ratio > 0.025:\n",
    "            threshold_delta = 20 + np.random.randint(-15,15)\n",
    "            threshold += threshold_delta\n",
    "            threshold = min(threshold, 254)\n",
    "\n",
    "        elif  area_ratio < 0.014:\n",
    "            threshold_delta = -20 + np.random.randint(-15,15)\n",
    "            threshold +=  threshold_delta\n",
    "            threshold = max(threshold, 75)\n",
    "        if i> 4 and is_it_inside:\n",
    "            delta += 0.0005\n",
    "    return final_mask"
   ]
  },
  {
   "cell_type": "code",
   "execution_count": 6,
   "id": "619ef468",
   "metadata": {
    "scrolled": false
   },
   "outputs": [],
   "source": [
    "def extract_optic_disc(image_path, outout_dir_path):\n",
    "    \n",
    "    \n",
    "    bgr_image = cv2.imread(image_path)\n",
    "    rgb_image = cv2.cvtColor(bgr_image, cv2.COLOR_BGR2RGB)\n",
    "    \n",
    "    eye_area = image_stuff.find_eye_area(rgb_image)\n",
    "    cropped_image = image_stuff.crop_eye_area(rgb_image)\n",
    "    eq_image = image_stuff.fix_illumination(cropped_image)\n",
    "\n",
    "    \n",
    "    height, width = eq_image.shape[:2]\n",
    "    d = int(0.075*(height+width))//2\n",
    "        \n",
    "    roi_contours = find_ROI(eq_image)\n",
    "\n",
    "    if len(roi_contours)==1:\n",
    "        roi_x, roi_y = extract_center(roi_contours[0])\n",
    "        \n",
    "        final_mask = find_optic_disc_from_red_channel(eq_image, roi_x, roi_y, d, eye_area) \n",
    "        if final_mask:\n",
    "            \n",
    "            image_name = os.path.basename(image_path)\n",
    "            bbox_image = image_stuff.draw_bbox_form_contour(eq_image, final_mask[0])\n",
    "            cv2.imwrite(os.path.join(outout_dir_path,f\"{image_name[:-4]}_bbox.jpg\"), cv2.cvtColor(bbox_image, cv2.COLOR_RGB2BGR))\n",
    "            cv2.imwrite(os.path.join(outout_dir_path,f\"{image_name[:-4]}.jpg\"), cv2.cvtColor(eq_image, cv2.COLOR_RGB2BGR))\n",
    "\n",
    "            x,y,w,h = cv2.boundingRect(final_mask[0])\n",
    "            coordinates = [x, y, x+w, y+h]\n",
    "            with open(os.path.join(outout_dir_path, f\"{image_name[:-4]}.txt\"), \"w\") as f:\n",
    "                for coordinate in coordinates:\n",
    "                    f.write(f\"{int(coordinate)}\\n\") "
   ]
  },
  {
   "cell_type": "code",
   "execution_count": 7,
   "id": "6e7dba45",
   "metadata": {},
   "outputs": [
    {
     "name": "stdout",
     "output_type": "stream",
     "text": [
      "Total number of images: 43\n"
     ]
    }
   ],
   "source": [
    "dataset_dir_path = \"/home/hue/Codes/AIROGS/datasets/5_normalized_224x224\"\n",
    "images_path = [os.path.join(dataset_dir_path,f) for f in sorted(os.listdir(f'{dataset_dir_path}'))]\n",
    "print(f\"Total number of images: {len(images_path)}\")"
   ]
  },
  {
   "cell_type": "code",
   "execution_count": null,
   "id": "dadc229c",
   "metadata": {},
   "outputs": [],
   "source": []
  },
  {
   "cell_type": "code",
   "execution_count": 8,
   "id": "827b2727",
   "metadata": {},
   "outputs": [],
   "source": [
    "outout_dir_path = \"/home/hue/Codes/AIROGS/datasets/threshold_output_test\"\n",
    "if not os.path.exists(outout_dir_path):\n",
    "    os.mkdir(outout_dir_path)"
   ]
  },
  {
   "cell_type": "code",
   "execution_count": 9,
   "id": "f95b139a",
   "metadata": {},
   "outputs": [],
   "source": [
    "extract_optic_disc(images_path[0], outout_dir_path)"
   ]
  },
  {
   "cell_type": "code",
   "execution_count": null,
   "id": "278f420c",
   "metadata": {},
   "outputs": [],
   "source": []
  },
  {
   "cell_type": "code",
   "execution_count": null,
   "id": "8ae4f876",
   "metadata": {},
   "outputs": [],
   "source": []
  }
 ],
 "metadata": {
  "kernelspec": {
   "display_name": "Python 3 (ipykernel)",
   "language": "python",
   "name": "python3"
  },
  "language_info": {
   "codemirror_mode": {
    "name": "ipython",
    "version": 3
   },
   "file_extension": ".py",
   "mimetype": "text/x-python",
   "name": "python",
   "nbconvert_exporter": "python",
   "pygments_lexer": "ipython3",
   "version": "3.9.1"
  }
 },
 "nbformat": 4,
 "nbformat_minor": 5
}
